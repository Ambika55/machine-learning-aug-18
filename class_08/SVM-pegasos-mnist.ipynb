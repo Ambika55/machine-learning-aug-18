{
 "cells": [
  {
   "cell_type": "code",
   "execution_count": 1,
   "metadata": {},
   "outputs": [],
   "source": [
    "import numpy as np\n",
    "import pandas as pd\n",
    "import matplotlib.pyplot as plt\n",
    "from random import randint\n",
    "import pickle\n",
    "\n",
    "%matplotlib inline"
   ]
  },
  {
   "cell_type": "code",
   "execution_count": 2,
   "metadata": {},
   "outputs": [],
   "source": [
    "USED_SAVED_MODEL = True"
   ]
  },
  {
   "cell_type": "code",
   "execution_count": 3,
   "metadata": {},
   "outputs": [],
   "source": [
    "def saveModel(model,filename):\n",
    "    pickle.dump(model, open(filename, 'wb'))\n",
    "\n",
    "def loadModel(filename):\n",
    "    loaded_model = pickle.load(open(filename, 'rb'))\n",
    "    return loaded_model"
   ]
  },
  {
   "cell_type": "code",
   "execution_count": 4,
   "metadata": {},
   "outputs": [],
   "source": [
    "\n",
    "def readData(filepath):\n",
    "    ds = pd.read_csv(filepath)\n",
    "    data = ds.values\n",
    "    xtrain = data[:,0:-1]\n",
    "    ytrain = data[:,-1]\n",
    "    \n",
    "    # Normalize the Data, Scale the Values between 0,1\n",
    "    xtrain = np.asarray(xtrain)\n",
    "    xtrain = (xtrain/255.0)\n",
    "    return xtrain,ytrain\n",
    "\n"
   ]
  },
  {
   "cell_type": "code",
   "execution_count": 5,
   "metadata": {},
   "outputs": [],
   "source": [
    "filepath = './mnist/train.csv'\n",
    "xtrain,ytrain = readData(filepath)"
   ]
  },
  {
   "cell_type": "code",
   "execution_count": 108,
   "metadata": {
    "scrolled": true
   },
   "outputs": [
    {
     "name": "stdout",
     "output_type": "stream",
     "text": [
      "9\n"
     ]
    },
    {
     "data": {
      "image/png": "[encoded data removed]",
      "text/plain": [
       "<matplotlib.figure.Figure at 0xeec3590>"
      ]
     },
     "metadata": {},
     "output_type": "display_data"
    }
   ],
   "source": [
    "def printImage(i,xtrain,ytrain):\n",
    "    \"\"\"Prints the i th row and label from dataset\n",
    "    Args:\n",
    "        Accepts an integer i, the row number\n",
    "    Outputs:\n",
    "        Image and Label\n",
    "    \"\"\"\n",
    "    image = xtrain[i]\n",
    "    label = ytrain[i]\n",
    "    \n",
    "    print(label)\n",
    "    img = image.reshape((28,28))\n",
    "    plt.figure(i)\n",
    "    plt.imshow(img,cmap='gray')\n",
    "    plt.show()\n",
    "    \n",
    "    \n",
    "    \n",
    "printImage(4,xtrain,ytrain)\n",
    "\n",
    "\n",
    "\n",
    "#print(xtrain.shape)"
   ]
  },
  {
   "cell_type": "code",
   "execution_count": 7,
   "metadata": {},
   "outputs": [],
   "source": [
    "class SVM:\n",
    "    \n",
    "    def __init__(self,C=1.0):\n",
    "        self.C = C\n",
    "        self.W = 0\n",
    "        self.B = 0\n",
    "        \n",
    "    def hingeLoss(self,w,b,x,y):\n",
    "        loss =  0\n",
    "        loss += 0.5*np.dot(w,w.T)\n",
    "        m = x.shape[0]\n",
    "        for i in range(m):\n",
    "            ti = y[i]*(np.dot(w,x[i].T)+ b)\n",
    "            loss += self.C*max(0,(1-ti))\n",
    "        return loss[0][0]\n",
    "                \n",
    "    def solve(self,x,y,batch_size=100,max_iter =100,solver=\"Pegasos\",learning_rate=0.001):\n",
    "        \n",
    "        if(solver==\"Pegasos\"):\n",
    "            no_of_features = x.shape[1]\n",
    "            no_of_samples = x.shape[0]\n",
    "            n = learning_rate\n",
    "            c = self.C\n",
    "            w = np.zeros((1,no_of_features))\n",
    "            bias = 0\n",
    "            losses = []\n",
    "            # Apply the Gradient Update Rule\n",
    "            for t in range(max_iter):\n",
    "                #l = self.hingeLoss(w,bias,x,y)\n",
    "                \n",
    "                #losses.append(l)  \n",
    "                indexes = np.arange(no_of_samples)\n",
    "                np.random.shuffle(indexes)\n",
    "                \n",
    "                for b in range(0,no_of_samples,batch_size): \n",
    "                    gradw = 0\n",
    "                    gradb = 0\n",
    "                    for j in range(b,b+batch_size):\n",
    "                        if(j<no_of_samples):\n",
    "                            i  = indexes[j]\n",
    "                            ti = y[i]*(np.dot(w,x[i].T)+bias) \n",
    "                            if ti>1:\n",
    "                                gradw += 0\n",
    "                                gradb += 0\n",
    "                            else:\n",
    "                                gradw += c*y[i]*x[i]\n",
    "                                gradb += c*y[i]\n",
    "                    w = w - n*w + n*gradw\n",
    "                    bias = bias + n*gradb\n",
    "                \n",
    "            self.W = w\n",
    "            self.B = bias\n",
    "            return w,bias #,losses"
   ]
  },
  {
   "cell_type": "code",
   "execution_count": 8,
   "metadata": {},
   "outputs": [],
   "source": [
    "def classWiseData(xtrain,ytrain):\n",
    "    \"\"\"Create a Dictionary of Labels\n",
    "        Each label is mapped with a numpy array of that dataset\n",
    "    \"\"\"\n",
    "    data = {}\n",
    "    for i in range(10):\n",
    "        data[i] = []\n",
    "    \n",
    "    for i in range(xtrain.shape[0]):\n",
    "        data[ytrain[i]].append(xtrain[i])\n",
    "   \n",
    "    for key in data.keys():\n",
    "        temp = data[key]\n",
    "        data[key] = np.asarray(temp)\n",
    "        \n",
    "    return data"
   ]
  },
  {
   "cell_type": "code",
   "execution_count": 9,
   "metadata": {},
   "outputs": [
    {
     "name": "stdout",
     "output_type": "stream",
     "text": [
      "784\n"
     ]
    }
   ],
   "source": [
    "data = classWiseData(xtrain,ytrain)\n",
    "len(data[0][2])\n",
    "print(data[1].shape[1])\n"
   ]
  },
  {
   "cell_type": "code",
   "execution_count": 10,
   "metadata": {},
   "outputs": [
    {
     "name": "stdout",
     "output_type": "stream",
     "text": [
      "(2000, 784)\n"
     ]
    }
   ],
   "source": [
    "print(data[2].shape)"
   ]
  },
  {
   "cell_type": "code",
   "execution_count": 11,
   "metadata": {},
   "outputs": [],
   "source": [
    "def getDataPairForSVM(d1,d2):\n",
    "    l1,l2 = d1.shape[0],d2.shape[0]\n",
    "    \n",
    "    no_of_samples = l1+l2\n",
    "    no_of_features = d1.shape[1]\n",
    "    \n",
    "    dataPair = np.zeros((no_of_samples,no_of_features))\n",
    "    dataLabels = np.zeros((no_of_samples,))\n",
    "    \n",
    "    dataPair[:l1,: ] = d1\n",
    "    dataLabels[:l1] = -1\n",
    "    dataPair[l1: ,:] = d2\n",
    "    dataLabels[l1:] = +1\n",
    "    \n",
    "    return dataPair,dataLabels\n",
    "\n"
   ]
  },
  {
   "cell_type": "code",
   "execution_count": 51,
   "metadata": {},
   "outputs": [],
   "source": [
    "#xnew,ynew = getDataPairForSVM(data[2],data[3])\n",
    "#print(xnew.shape)\n",
    "#print(ynew[1980:2020])"
   ]
  },
  {
   "cell_type": "code",
   "execution_count": 50,
   "metadata": {},
   "outputs": [],
   "source": [
    "#xnew,ynew = getDataPairForSVM(data[5],data[7])\n",
    "#meri_svm = SVM()\n",
    "#w,b = meri_svm.solve(xnew,ynew)\n",
    "#print(w,b)\n",
    "#print(w.shape)\n",
    "#print(b)"
   ]
  },
  {
   "cell_type": "code",
   "execution_count": 14,
   "metadata": {},
   "outputs": [],
   "source": [
    "def binaryPredict(x,w,b):\n",
    "    \n",
    "    z = np.dot(w,x.T) + b\n",
    "    if z>=0:\n",
    "        return 1\n",
    "    else:\n",
    "        return -1\n",
    "\n",
    "\n",
    "   "
   ]
  },
  {
   "cell_type": "code",
   "execution_count": 15,
   "metadata": {},
   "outputs": [
    {
     "name": "stdout",
     "output_type": "stream",
     "text": [
      "Model Loaded Successfully\n"
     ]
    }
   ],
   "source": [
    "mySVM = SVM()\n",
    "\n",
    "def trainSVMs(xtrain,ytrain):\n",
    "    svm_classifiers = {} \n",
    "\n",
    "    for i in range(10):\n",
    "        svm_classifiers[i] = {}\n",
    "        for j in range(i+1,10):\n",
    "                xpair,ypair =getDataPairForSVM(data[i],data[j])\n",
    "                wts,b= mySVM.solve(xpair,ypair)\n",
    "                svm_classifiers[i][j] = (wts,b)\n",
    "    \n",
    "    return svm_classifiers\n",
    "\n",
    "\n",
    "\n",
    "if USED_SAVED_MODEL == False:\n",
    "    svm_classifiers = trainSVMs(xtrain,ytrain)\n",
    "    saveModel(svm_classifiers,'svm_mnist.pickle')\n",
    "    print(\"Model Saved Successfully\")\n",
    "else:\n",
    "    svm_classifiers = loadModel('svm_mnist.pickle')\n",
    "    print(\"Model Loaded Successfully\")\n"
   ]
  },
  {
   "cell_type": "code",
   "execution_count": 16,
   "metadata": {},
   "outputs": [],
   "source": [
    "def predict(x):\n",
    "    \"\"\"Prediction using One Vs One Strategy\"\"\"\n",
    "    count = np.zeros((10,))\n",
    "    \n",
    "    for i in range(10):\n",
    "        for j in range(i+1,10):\n",
    "                w,b = svm_classifiers[i][j]\n",
    "                z = binaryPredict(x,w,b)\n",
    "                \"Higher value(+1) is mapped with j,and Lower Value(-1) is mapped with i\"\n",
    "                if(z==1):\n",
    "                    count[j] +=1 \n",
    "                else:\n",
    "                    count[i] +=1 \n",
    "            \n",
    "    #print(count)\n",
    "    finalAns = 0\n",
    "    for j in range(0,10):\n",
    "        if(count[j]>=count[finalAns]):\n",
    "            finalAns = j\n",
    "            \n",
    "    return finalAns\n",
    "    "
   ]
  },
  {
   "cell_type": "code",
   "execution_count": 52,
   "metadata": {},
   "outputs": [],
   "source": [
    "#predict(xtrain[4])"
   ]
  },
  {
   "cell_type": "code",
   "execution_count": 18,
   "metadata": {},
   "outputs": [],
   "source": [
    "def accuracy(x,y):\n",
    "    count = 0\n",
    "    \n",
    "    for i in range(x.shape[0]):    \n",
    "        predicted_label = predict(x[i])\n",
    "        if(predicted_label==y[i]):\n",
    "            count +=1\n",
    "    \n",
    "    return count/x.shape[0]\n",
    "\n",
    "\n",
    "        "
   ]
  },
  {
   "cell_type": "code",
   "execution_count": 19,
   "metadata": {},
   "outputs": [
    {
     "name": "stdout",
     "output_type": "stream",
     "text": [
      "0.9509475473773689\n"
     ]
    }
   ],
   "source": [
    "accu_train = accuracy(xtrain,ytrain)\n",
    "print(accu_train)"
   ]
  },
  {
   "cell_type": "code",
   "execution_count": 20,
   "metadata": {},
   "outputs": [],
   "source": [
    "filepathTest = './mnist/test.csv'\n",
    "xtest,ytest = readData(filepathTest)\n",
    "\n",
    "accu_test = accuracy(xtest,ytest)"
   ]
  },
  {
   "cell_type": "code",
   "execution_count": 21,
   "metadata": {},
   "outputs": [
    {
     "name": "stdout",
     "output_type": "stream",
     "text": [
      "0.9383938393839384\n"
     ]
    }
   ],
   "source": [
    "print(accu_test)"
   ]
  },
  {
   "cell_type": "markdown",
   "metadata": {},
   "source": [
    "### In the next section, we will implement using SVM using LibSVM\n"
   ]
  },
  {
   "cell_type": "code",
   "execution_count": 25,
   "metadata": {},
   "outputs": [],
   "source": [
    "from sklearn import svm\n"
   ]
  },
  {
   "cell_type": "markdown",
   "metadata": {},
   "source": [
    "### Linear and Gaussian Kernel SVM "
   ]
  },
  {
   "cell_type": "code",
   "execution_count": 62,
   "metadata": {},
   "outputs": [],
   "source": [
    "def linear_gaussian_SVM(x,y,xtest,ytest,retrain=True,kernel='linear'):\n",
    "    \n",
    "    if(retrain):    \n",
    "        if(kernel=='linear'):\n",
    "            svm_clf = svm.SVC(kernel='linear',C=1.0)\n",
    "            svm_clf.fit(x, y)\n",
    "            saveModel(svm_clf,'linearSVM.pickle')\n",
    "\n",
    "        elif(kernel=='gaussian'):\n",
    "            svm_clf = svm.SVC(kernel='rbf',C=1.0,gamma=0.05)\n",
    "            svm_clf.fit(x, y)\n",
    "            saveModel(svm_clf,'gaussianSVM.pickle')\n",
    "    \n",
    "    else:\n",
    "        if(kernel=='linear'):\n",
    "            svm_clf = loadModel('linearSVM.pickle')\n",
    "        elif(kernel=='gaussian'):\n",
    "            svm_clf = loadModel('gaussianSVM.pickle')\n",
    "        \n",
    "\n",
    "   \n",
    "    train_accuracy = svm_clf.score(x,y)\n",
    "    test_accuracy = svm_clf.score(xtest,ytest)\n",
    "    \n",
    "    return train_accuracy,test_accuracy\n",
    "\n",
    "\n"
   ]
  },
  {
   "cell_type": "code",
   "execution_count": 57,
   "metadata": {},
   "outputs": [],
   "source": [
    "train_linear_acc,test_linear_acc = linear_gaussian_SVM(xtrain,ytrain,xtest,ytest)\n"
   ]
  },
  {
   "cell_type": "code",
   "execution_count": 69,
   "metadata": {},
   "outputs": [
    {
     "name": "stdout",
     "output_type": "stream",
     "text": [
      "Linear Kernel \n",
      "Train Acc: 0.9879 \n",
      "Test Acc: 0.9283\n"
     ]
    }
   ],
   "source": [
    "print(\"Linear Kernel \\nTrain Acc: %.4f \\nTest Acc: %.4f\"%(train_linear_acc,test_linear_acc))\n"
   ]
  },
  {
   "cell_type": "code",
   "execution_count": 63,
   "metadata": {},
   "outputs": [],
   "source": [
    "train_gaussian_acc,test_gaussian_acc = linear_gaussian_SVM(xtrain,ytrain,xtest,ytest,retrain=True,kernel=\"gaussian\")\n"
   ]
  },
  {
   "cell_type": "code",
   "execution_count": 71,
   "metadata": {},
   "outputs": [
    {
     "name": "stdout",
     "output_type": "stream",
     "text": [
      "Gaussian Kernel \n",
      "Train Acc: 0.9992 \n",
      "Test Acc: 0.9724\n"
     ]
    }
   ],
   "source": [
    "print(\"Gaussian Kernel \\nTrain Acc: %.4f \\nTest Acc: %.4f\"%(train_gaussian_acc,test_gaussian_acc))\n"
   ]
  },
  {
   "cell_type": "markdown",
   "metadata": {},
   "source": [
    "# 10 Fold Cross Validation over various C Values"
   ]
  },
  {
   "cell_type": "code",
   "execution_count": 26,
   "metadata": {},
   "outputs": [],
   "source": [
    "from sklearn.model_selection import cross_val_score"
   ]
  },
  {
   "cell_type": "code",
   "execution_count": 72,
   "metadata": {},
   "outputs": [],
   "source": [
    "def GaussianSVM(x,y,xtest,ytest,c,reTrain=False):\n",
    "        \n",
    "        if(reTrain==True):\n",
    "            gsvm = svm.SVC(kernel='rbf',C=c,gamma=0.05)\n",
    "            gsvm.fit(x,y)\n",
    "            filename = \"Gaussian_SVM_\"+str(c)+\".pickle\" \n",
    "            saveModel(gsvm,filename)\n",
    "        else:\n",
    "            filename = \"Gaussian_SVM_\"+str(c)+\".pickle\"\n",
    "            gsvm = loadModel(filename)\n",
    "        \n",
    "        scores = cross_val_score(gsvm, x, y,cv=10)\n",
    "        scores_test = gsvm.score(xtest,ytest)\n",
    "        \n",
    "        print(\"Mean Training Accuracy : %0.2f (+/- %0.2f)\" % (scores.mean(), scores.std() * 2))\n",
    "        return scores.mean(),scores_test\n",
    "\n",
    "    \n",
    "penalty = [0.00001,0.001,1,5,10]"
   ]
  },
  {
   "cell_type": "code",
   "execution_count": 29,
   "metadata": {},
   "outputs": [
    {
     "name": "stdout",
     "output_type": "stream",
     "text": [
      "Accuracy for C : 0.00001\n",
      "Mean Training Accuracy : 0.67 (+/- 0.04)\n",
      "Training 0.6654 Testing 0.6636\n",
      "\n",
      "Accuracy for C : 0.00100\n",
      "Mean Training Accuracy : 0.67 (+/- 0.04)\n",
      "Training 0.6654 Testing 0.6636\n",
      "\n",
      "Accuracy for C : 1.00000\n",
      "Mean Training Accuracy : 0.97 (+/- 0.01)\n",
      "Training 0.9742 Testing 0.9724\n",
      "\n",
      "Accuracy for C : 5.00000\n",
      "Mean Training Accuracy : 0.98 (+/- 0.01)\n",
      "Training 0.9752 Testing 0.9730\n",
      "\n",
      "Accuracy for C : 10.00000\n",
      "Mean Training Accuracy : 0.98 (+/- 0.01)\n",
      "Training 0.9752 Testing 0.9730\n",
      "\n"
     ]
    }
   ],
   "source": [
    "trainAcc = []\n",
    "testAcc = [] \n",
    "\n",
    "for c in penalty:\n",
    "    print(\"Accuracy for C : %.5f\"%c)\n",
    "    train_accuracy,test_accuracy = GaussianSVM(xtrain,ytrain,xtest,ytest,c)\n",
    "    trainAcc.append(train_accuracy)\n",
    "    testAcc.append(test_accuracy)\n",
    "    print(\"Training %.4f Testing %.4f\\n\"%(train_accuracy,test_accuracy))\n",
    "    "
   ]
  },
  {
   "cell_type": "code",
   "execution_count": 99,
   "metadata": {},
   "outputs": [
    {
     "data": {
      "image/png": "[encoded data removed]",
      "text/plain": [
       "<matplotlib.figure.Figure at 0x2e202870>"
      ]
     },
     "metadata": {},
     "output_type": "display_data"
    }
   ],
   "source": [
    "plt.title(\"Accuracies over various values of C\")\n",
    "plt.plot(np.log(penalty),testAcc,c='g',marker='^',label=\"Test Accuracy\")\n",
    "plt.plot(np.log(penalty),trainAcc,c='r',marker='*',label=\"Train Accuracy\")\n",
    "plt.xlabel(\"Penalty(C)\")\n",
    "plt.ylabel(\"Accuracy\")\n",
    "plt.legend()\n",
    "\n",
    "plt.show()"
   ]
  },
  {
   "cell_type": "code",
   "execution_count": 110,
   "metadata": {},
   "outputs": [],
   "source": [
    "# Draw the Confusion Matrix for the Best Results\n",
    "#print(trainAcc)"
   ]
  },
  {
   "cell_type": "code",
   "execution_count": 35,
   "metadata": {},
   "outputs": [],
   "source": [
    "from pandas_ml import ConfusionMatrix\n",
    "from matplotlib import pyplot as plt \n",
    "%matplotlib inline\n",
    "\n"
   ]
  },
  {
   "cell_type": "code",
   "execution_count": 42,
   "metadata": {},
   "outputs": [
    {
     "name": "stdout",
     "output_type": "stream",
     "text": [
      "Confusion matrix:\n",
      "Predicted    0     1     2     3    4    5    6     7    8    9  __all__\n",
      "Actual                                                                  \n",
      "0          969     0     1     0    0    3    4     1    2    0      980\n",
      "1            0  1123     3     2    0    2    2     0    2    1     1135\n",
      "2            4     0  1000     4    2    0    1     6   15    0     1032\n",
      "3            0     0     8   986    0    4    0     6    5    1     1010\n",
      "4            1     0     5     0  962    0    4     0    2    8      982\n",
      "5            2     0     3     6    1  866    7     1    5    1      892\n",
      "6            5     4     0     0    3    4  940     0    2    0      958\n",
      "7            1     4    20     2    4    0    0   984    2   10     1027\n",
      "8            4     0     3    10    2    5    2     3  942    3      974\n",
      "9            4     4     3     8    9    4    0     9   11  957     1009\n",
      "__all__    990  1135  1046  1018  983  888  960  1010  988  981     9999\n"
     ]
    },
    {
     "data": {
      "image/png": "[encoded data removed]",
      "text/plain": [
       "<matplotlib.figure.Figure at 0xedab190>"
      ]
     },
     "metadata": {},
     "output_type": "display_data"
    }
   ],
   "source": [
    "def confMatrix(xtest,ytest):\n",
    "    best_acc_index = np.argmax(trainAcc)\n",
    "    best_c = penalty[best_acc_index]\n",
    "    \n",
    "    filename = \"Gaussian_SVM_\"+str(best_c)+\".pickle\"\n",
    "    best_gsvm = loadModel(filename)\n",
    "    \n",
    "    prediction = best_gsvm.predict(xtest)\n",
    "    confusion_matrix = ConfusionMatrix(ytest,prediction)\n",
    "    print(\"Confusion matrix:\\n%s\" % confusion_matrix)\n",
    "    confusion_matrix.plot(normalized=True)\n",
    "    plt.show()\n",
    "    return prediction,confusion_matrix\n",
    "    \n",
    "prediction,confusion_matrix = confMatrix(xtest,ytest)"
   ]
  },
  {
   "cell_type": "code",
   "execution_count": null,
   "metadata": {},
   "outputs": [],
   "source": [
    "# Misqualify -  2 and 7, 3 and 8, 4 and 9, 6 and 5, 9 and 7"
   ]
  },
  {
   "cell_type": "code",
   "execution_count": 47,
   "metadata": {},
   "outputs": [
    {
     "data": {
      "text/html": [
       "<div>\n",
       "<style scoped>\n",
       "    .dataframe tbody tr th:only-of-type {\n",
       "        vertical-align: middle;\n",
       "    }\n",
       "\n",
       "    .dataframe tbody tr th {\n",
       "        vertical-align: top;\n",
       "    }\n",
       "\n",
       "    .dataframe thead th {\n",
       "        text-align: right;\n",
       "    }\n",
       "</style>\n",
       "<table border=\"1\" class=\"dataframe\">\n",
       "  <thead>\n",
       "    <tr style=\"text-align: right;\">\n",
       "      <th></th>\n",
       "      <th>precision</th>\n",
       "      <th>recall</th>\n",
       "      <th>F1_score</th>\n",
       "      <th>support</th>\n",
       "    </tr>\n",
       "    <tr>\n",
       "      <th>Classes</th>\n",
       "      <th></th>\n",
       "      <th></th>\n",
       "      <th></th>\n",
       "      <th></th>\n",
       "    </tr>\n",
       "  </thead>\n",
       "  <tbody>\n",
       "    <tr>\n",
       "      <th>0</th>\n",
       "      <td>0.978788</td>\n",
       "      <td>0.988776</td>\n",
       "      <td>0.983756</td>\n",
       "      <td>980</td>\n",
       "    </tr>\n",
       "    <tr>\n",
       "      <th>1</th>\n",
       "      <td>0.989427</td>\n",
       "      <td>0.989427</td>\n",
       "      <td>0.989427</td>\n",
       "      <td>1135</td>\n",
       "    </tr>\n",
       "    <tr>\n",
       "      <th>2</th>\n",
       "      <td>0.956023</td>\n",
       "      <td>0.968992</td>\n",
       "      <td>0.962464</td>\n",
       "      <td>1032</td>\n",
       "    </tr>\n",
       "    <tr>\n",
       "      <th>3</th>\n",
       "      <td>0.968566</td>\n",
       "      <td>0.976238</td>\n",
       "      <td>0.972387</td>\n",
       "      <td>1010</td>\n",
       "    </tr>\n",
       "    <tr>\n",
       "      <th>4</th>\n",
       "      <td>0.978637</td>\n",
       "      <td>0.979633</td>\n",
       "      <td>0.979135</td>\n",
       "      <td>982</td>\n",
       "    </tr>\n",
       "    <tr>\n",
       "      <th>5</th>\n",
       "      <td>0.975225</td>\n",
       "      <td>0.970852</td>\n",
       "      <td>0.973034</td>\n",
       "      <td>892</td>\n",
       "    </tr>\n",
       "    <tr>\n",
       "      <th>6</th>\n",
       "      <td>0.979167</td>\n",
       "      <td>0.981211</td>\n",
       "      <td>0.980188</td>\n",
       "      <td>958</td>\n",
       "    </tr>\n",
       "    <tr>\n",
       "      <th>7</th>\n",
       "      <td>0.974257</td>\n",
       "      <td>0.95813</td>\n",
       "      <td>0.966127</td>\n",
       "      <td>1027</td>\n",
       "    </tr>\n",
       "    <tr>\n",
       "      <th>8</th>\n",
       "      <td>0.953441</td>\n",
       "      <td>0.967146</td>\n",
       "      <td>0.960245</td>\n",
       "      <td>974</td>\n",
       "    </tr>\n",
       "    <tr>\n",
       "      <th>9</th>\n",
       "      <td>0.975535</td>\n",
       "      <td>0.948464</td>\n",
       "      <td>0.961809</td>\n",
       "      <td>1009</td>\n",
       "    </tr>\n",
       "    <tr>\n",
       "      <th>__avg / total__</th>\n",
       "      <td>0.973055</td>\n",
       "      <td>0.972997</td>\n",
       "      <td>0.972986</td>\n",
       "      <td>9999</td>\n",
       "    </tr>\n",
       "  </tbody>\n",
       "</table>\n",
       "</div>"
      ],
      "text/plain": [
       "                precision    recall  F1_score support\n",
       "Classes                                              \n",
       "0                0.978788  0.988776  0.983756     980\n",
       "1                0.989427  0.989427  0.989427    1135\n",
       "2                0.956023  0.968992  0.962464    1032\n",
       "3                0.968566  0.976238  0.972387    1010\n",
       "4                0.978637  0.979633  0.979135     982\n",
       "5                0.975225  0.970852  0.973034     892\n",
       "6                0.979167  0.981211  0.980188     958\n",
       "7                0.974257   0.95813  0.966127    1027\n",
       "8                0.953441  0.967146  0.960245     974\n",
       "9                0.975535  0.948464  0.961809    1009\n",
       "__avg / total__  0.973055  0.972997  0.972986    9999"
      ]
     },
     "execution_count": 47,
     "metadata": {},
     "output_type": "execute_result"
    }
   ],
   "source": [
    "confusion_matrix.classification_report"
   ]
  },
  {
   "cell_type": "code",
   "execution_count": 109,
   "metadata": {},
   "outputs": [
    {
     "name": "stdout",
     "output_type": "stream",
     "text": [
      "4 misqualifed as 0\n",
      "4\n"
     ]
    },
    {
     "data": {
      "image/png": "[encoded data removed]",
      "text/plain": [
       "<matplotlib.figure.Figure at 0x2ee452f0>"
      ]
     },
     "metadata": {},
     "output_type": "display_data"
    },
    {
     "name": "stdout",
     "output_type": "stream",
     "text": [
      "7 misqualifed as 4\n",
      "7\n"
     ]
    },
    {
     "data": {
      "image/png": "[encoded data removed]",
      "text/plain": [
       "<matplotlib.figure.Figure at 0xee347d0>"
      ]
     },
     "metadata": {},
     "output_type": "display_data"
    },
    {
     "name": "stdout",
     "output_type": "stream",
     "text": [
      "9 misqualifed as 8\n",
      "9\n"
     ]
    },
    {
     "data": {
      "image/png": "[encoded data removed]",
      "text/plain": [
       "<matplotlib.figure.Figure at 0x2e1c3b30>"
      ]
     },
     "metadata": {},
     "output_type": "display_data"
    },
    {
     "name": "stdout",
     "output_type": "stream",
     "text": [
      "9 misqualifed as 8\n",
      "9\n"
     ]
    },
    {
     "data": {
      "image/png": "[encoded data removed]",
      "text/plain": [
       "<matplotlib.figure.Figure at 0xedd73f0>"
      ]
     },
     "metadata": {},
     "output_type": "display_data"
    },
    {
     "name": "stdout",
     "output_type": "stream",
     "text": [
      "4 misqualifed as 2\n",
      "4\n"
     ]
    },
    {
     "data": {
      "image/png": "[encoded data removed]",
      "text/plain": [
       "<matplotlib.figure.Figure at 0xee55d10>"
      ]
     },
     "metadata": {},
     "output_type": "display_data"
    },
    {
     "name": "stdout",
     "output_type": "stream",
     "text": [
      "2 misqualifed as 7\n",
      "2\n"
     ]
    },
    {
     "data": {
      "image/png": "[encoded data removed]",
      "text/plain": [
       "<matplotlib.figure.Figure at 0x2ebecad0>"
      ]
     },
     "metadata": {},
     "output_type": "display_data"
    },
    {
     "name": "stdout",
     "output_type": "stream",
     "text": [
      "0 misqualifed as 5\n",
      "0\n"
     ]
    },
    {
     "data": {
      "image/png": "[encoded data removed]",
      "text/plain": [
       "<matplotlib.figure.Figure at 0x2e23d170>"
      ]
     },
     "metadata": {},
     "output_type": "display_data"
    },
    {
     "name": "stdout",
     "output_type": "stream",
     "text": [
      "5 misqualifed as 3\n",
      "5\n"
     ]
    },
    {
     "data": {
      "image/png": "[encoded data removed]",
      "text/plain": [
       "<matplotlib.figure.Figure at 0x2e272eb0>"
      ]
     },
     "metadata": {},
     "output_type": "display_data"
    },
    {
     "name": "stdout",
     "output_type": "stream",
     "text": [
      "3 misqualifed as 7\n",
      "3\n"
     ]
    },
    {
     "data": {
      "image/png": "[encoded data removed]",
      "text/plain": [
       "<matplotlib.figure.Figure at 0x2e1dae10>"
      ]
     },
     "metadata": {},
     "output_type": "display_data"
    },
    {
     "name": "stdout",
     "output_type": "stream",
     "text": [
      "2 misqualifed as 8\n",
      "2\n"
     ]
    },
    {
     "data": {
      "image/png": "[encoded data removed]",
      "text/plain": [
       "<matplotlib.figure.Figure at 0x2e9dec90>"
      ]
     },
     "metadata": {},
     "output_type": "display_data"
    }
   ],
   "source": [
    "def printMisclassifedExamples(x,yactual,prediction,no_of_examples):\n",
    "    \n",
    "    misqualify=0\n",
    "    \n",
    "    for i in range(x.shape[0]):\n",
    "        \n",
    "        if(yactual[i]!=prediction[i]):\n",
    "            print(\"%d misqualifed as %d\"%(yactual[i],prediction[i]))\n",
    "            misqualify += 1\n",
    "            \n",
    "            printImage(i,x,yactual)\n",
    "            \n",
    "            if misqualify == no_of_examples:\n",
    "                break\n",
    "        \n",
    "        \n",
    "            \n",
    "printMisclassifedExamples(xtest,ytest,prediction,10)\n",
    "    \n",
    "    "
   ]
  }
 ],
 "metadata": {
  "kernelspec": {
   "display_name": "Python 3",
   "language": "python",
   "name": "python3"
  },
  "language_info": {
   "codemirror_mode": {
    "name": "ipython",
    "version": 3
   },
   "file_extension": ".py",
   "mimetype": "text/x-python",
   "name": "python",
   "nbconvert_exporter": "python",
   "pygments_lexer": "ipython3",
   "version": "3.6.4"
  }
 },
 "nbformat": 4,
 "nbformat_minor": 2
}
